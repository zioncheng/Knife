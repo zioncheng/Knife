{
 "cells": [
  {
   "cell_type": "markdown",
   "metadata": {
    "_uuid": "e8e112aa5b5db7303e39d3a9cf1702848962c6c2"
   },
   "source": [
    "### Introduction\n",
    "\n",
    "Not much here except very simple features that build on the fact we know the future...\n",
    "\n",
    "In all time series competition where you're allowed to use future events the best features are time to next session for a given visitor.\n",
    "\n",
    "This competition is no exception.\n",
    "\n",
    "I left part of the features I already tested and don't seem to generalize... but what can we really trust here ?\n"
   ]
  },
  {
   "cell_type": "code",
   "execution_count": 1,
   "metadata": {
    "_cell_guid": "b1076dfc-b9ad-4769-8c92-a6c4dae69d19",
    "_uuid": "8f2839f25d086af736a60e9eeb907d3b93b6e0e5",
    "collapsed": false
   },
   "outputs": [
    {
     "name": "stdout",
     "output_type": "stream",
     "text": [
      "['.DS_Store', 'sample_submission.csv', 'test.csv', 'train.csv']\n"
     ]
    }
   ],
   "source": [
    "import os\n",
    "print(os.listdir(\"../input\"))"
   ]
  },
  {
   "cell_type": "code",
   "execution_count": 2,
   "metadata": {
    "_cell_guid": "79c7e3d0-c299-4dcb-8224-4455121ee9b0",
    "_uuid": "d629ff2d2480ee46fbb7e2d37f6b5fab8052498a",
    "collapsed": true
   },
   "outputs": [],
   "source": [
    "import pandas as pd\n",
    "import numpy as np\n",
    "import matplotlib.pyplot as plt\n",
    "import seaborn as sns\n",
    "from sklearn.metrics import mean_squared_error\n",
    "import gc\n",
    "import time\n",
    "from pandas.core.common import SettingWithCopyWarning\n",
    "import warnings\n",
    "import lightgbm as lgb\n",
    "from sklearn.model_selection import GroupKFold\n",
    "\n",
    "# I don't like SettingWithCopyWarnings ...\n",
    "warnings.simplefilter('error', SettingWithCopyWarning)\n",
    "gc.enable()\n",
    "%matplotlib inline"
   ]
  },
  {
   "cell_type": "markdown",
   "metadata": {
    "_uuid": "e8c6c0d5d8cf00737b8ae536b0d528b32fac9166"
   },
   "source": [
    "### Get the extracted data"
   ]
  },
  {
   "cell_type": "code",
   "execution_count": 5,
   "metadata": {
    "_uuid": "6fe04db087c3d25b8b4a5873ee6f104e427525f0",
    "collapsed": false
   },
   "outputs": [
    {
     "data": {
      "text/plain": [
       "((903653, 30), (804684, 30))"
      ]
     },
     "execution_count": 5,
     "metadata": {},
     "output_type": "execute_result"
    }
   ],
   "source": [
    "train = pd.read_csv('../input/create-extracted-json-fields-dataset/extracted_fields_train.gz', \n",
    "                    dtype={'date': str, 'fullVisitorId': str, 'sessionId':str}, nrows=None)\n",
    "test = pd.read_csv('../input/create-extracted-json-fields-dataset/extracted_fields_test.gz', \n",
    "                   dtype={'date': str, 'fullVisitorId': str, 'sessionId':str}, nrows=None)\n",
    "train.shape, test.shape"
   ]
  },
  {
   "cell_type": "markdown",
   "metadata": {
    "_uuid": "b64b336b70ccb5478d33f9e042eeeabee549c919"
   },
   "source": [
    "### Define folding strategy"
   ]
  },
  {
   "cell_type": "code",
   "execution_count": 6,
   "metadata": {
    "_uuid": "cd54722ebf9ae8b68eddb2116c0559625e7d6a48",
    "collapsed": true
   },
   "outputs": [],
   "source": [
    "def get_folds(df=None, n_splits=5):\n",
    "    \"\"\"Returns dataframe indices corresponding to Visitors Group KFold\"\"\"\n",
    "    # Get sorted unique visitors\n",
    "    unique_vis = np.array(sorted(df['fullVisitorId'].unique()))\n",
    "\n",
    "    # Get folds\n",
    "    folds = GroupKFold(n_splits=n_splits)\n",
    "    fold_ids = []\n",
    "    ids = np.arange(df.shape[0])\n",
    "    for trn_vis, val_vis in folds.split(X=unique_vis, y=unique_vis, groups=unique_vis):\n",
    "        fold_ids.append(\n",
    "            [\n",
    "                ids[df['fullVisitorId'].isin(unique_vis[trn_vis])],\n",
    "                ids[df['fullVisitorId'].isin(unique_vis[val_vis])]\n",
    "            ]\n",
    "        )\n",
    "\n",
    "    return fold_ids"
   ]
  },
  {
   "cell_type": "markdown",
   "metadata": {
    "_uuid": "18b2fb7729077132ef249956a1bbb072baee17db"
   },
   "source": [
    "### Get session target"
   ]
  },
  {
   "cell_type": "code",
   "execution_count": 7,
   "metadata": {
    "_uuid": "c539c76d9a5305066ea084ca32016132da41b35b",
    "collapsed": true
   },
   "outputs": [],
   "source": [
    "y_reg = train['totals.transactionRevenue'].fillna(0)\n",
    "del train['totals.transactionRevenue']\n",
    "\n",
    "if 'totals.transactionRevenue' in test.columns:\n",
    "    del test['totals.transactionRevenue']"
   ]
  },
  {
   "cell_type": "markdown",
   "metadata": {
    "_uuid": "1d9af86b1cf94e192d704bfd419eed4490e1debe"
   },
   "source": [
    "### Add date features\n",
    "\n",
    "Only add the one I think can ganeralize"
   ]
  },
  {
   "cell_type": "code",
   "execution_count": 8,
   "metadata": {
    "_uuid": "fbf93fda18940aa29105fa2d66f3514311d4fc68",
    "collapsed": false
   },
   "outputs": [
    {
     "data": {
      "text/plain": [
       "Index(['channelGrouping', 'date', 'fullVisitorId', 'sessionId', 'visitId',\n",
       "       'visitNumber', 'visitStartTime', 'device.browser',\n",
       "       'device.deviceCategory', 'device.isMobile', 'device.operatingSystem',\n",
       "       'geoNetwork.city', 'geoNetwork.continent', 'geoNetwork.country',\n",
       "       'geoNetwork.metro', 'geoNetwork.networkDomain', 'geoNetwork.region',\n",
       "       'geoNetwork.subContinent', 'totals.bounces', 'totals.hits',\n",
       "       'totals.newVisits', 'totals.pageviews', 'trafficSource.adContent',\n",
       "       'trafficSource.campaign', 'trafficSource.isTrueDirect',\n",
       "       'trafficSource.keyword', 'trafficSource.medium',\n",
       "       'trafficSource.referralPath', 'trafficSource.source'],\n",
       "      dtype='object')"
      ]
     },
     "execution_count": 8,
     "metadata": {},
     "output_type": "execute_result"
    }
   ],
   "source": [
    "train.columns"
   ]
  },
  {
   "cell_type": "code",
   "execution_count": 9,
   "metadata": {
    "_uuid": "b04391e12fdca0199ff22ab7febd9b0b53d6cbb3",
    "collapsed": true
   },
   "outputs": [],
   "source": [
    "train['target'] = y_reg\n",
    "for df in [train, test]:\n",
    "    df['date'] = pd.to_datetime(df['visitStartTime'], unit='s')\n",
    "    df['sess_date_dow'] = df['date'].dt.dayofweek\n",
    "    df['sess_date_hours'] = df['date'].dt.hour\n",
    "    df['sess_date_dom'] = df['date'].dt.day\n",
    "    df.sort_values(['fullVisitorId', 'date'], ascending=True, inplace=True)\n",
    "    df['next_session_1'] = (\n",
    "        df['date'] - df[['fullVisitorId', 'date']].groupby('fullVisitorId')['date'].shift(1)\n",
    "    ).astype(np.int64) // 1e9 // 60 // 60\n",
    "    df['next_session_2'] = (\n",
    "        df['date'] - df[['fullVisitorId', 'date']].groupby('fullVisitorId')['date'].shift(-1)\n",
    "    ).astype(np.int64) // 1e9 // 60 // 60\n",
    "\n",
    "y_reg = train['target']\n",
    "del train['target']"
   ]
  },
  {
   "cell_type": "code",
   "execution_count": 10,
   "metadata": {
    "_uuid": "dcc7f28d6e454516de650d4460b82b3151fc8394",
    "collapsed": false
   },
   "outputs": [
    {
     "name": "stdout",
     "output_type": "stream",
     "text": [
      "process device ...\n",
      "process device ...\n",
      "custom..\n",
      "custom..\n"
     ]
    }
   ],
   "source": [
    "# https://www.kaggle.com/prashantkikani/teach-lightgbm-to-sum-predictions-fe\n",
    "def browser_mapping(x):\n",
    "    browsers = ['chrome','safari','firefox','internet explorer','edge','opera','coc coc','maxthon','iron']\n",
    "    if x in browsers:\n",
    "        return x.lower()\n",
    "    elif  ('android' in x) or ('samsung' in x) or ('mini' in x) or ('iphone' in x) or ('in-app' in x) or ('playstation' in x):\n",
    "        return 'mobile browser'\n",
    "    elif  ('mozilla' in x) or ('chrome' in x) or ('blackberry' in x) or ('nokia' in x) or ('browser' in x) or ('amazon' in x):\n",
    "        return 'mobile browser'\n",
    "    elif  ('lunascape' in x) or ('netscape' in x) or ('blackberry' in x) or ('konqueror' in x) or ('puffin' in x) or ('amazon' in x):\n",
    "        return 'mobile browser'\n",
    "    elif '(not set)' in x:\n",
    "        return x\n",
    "    else:\n",
    "        return 'others'\n",
    "    \n",
    "    \n",
    "def adcontents_mapping(x):\n",
    "    if  ('google' in x):\n",
    "        return 'google'\n",
    "    elif  ('placement' in x) | ('placememnt' in x):\n",
    "        return 'placement'\n",
    "    elif '(not set)' in x or 'nan' in x:\n",
    "        return x\n",
    "    elif 'ad' in x:\n",
    "        return 'ad'\n",
    "    else:\n",
    "        return 'others'\n",
    "    \n",
    "def source_mapping(x):\n",
    "    if  ('google' in x):\n",
    "        return 'google'\n",
    "    elif  ('youtube' in x):\n",
    "        return 'youtube'\n",
    "    elif '(not set)' in x or 'nan' in x:\n",
    "        return x\n",
    "    elif 'yahoo' in x:\n",
    "        return 'yahoo'\n",
    "    elif 'facebook' in x:\n",
    "        return 'facebook'\n",
    "    elif 'reddit' in x:\n",
    "        return 'reddit'\n",
    "    elif 'bing' in x:\n",
    "        return 'bing'\n",
    "    elif 'quora' in x:\n",
    "        return 'quora'\n",
    "    elif 'outlook' in x:\n",
    "        return 'outlook'\n",
    "    elif 'linkedin' in x:\n",
    "        return 'linkedin'\n",
    "    elif 'pinterest' in x:\n",
    "        return 'pinterest'\n",
    "    elif 'ask' in x:\n",
    "        return 'ask'\n",
    "    elif 'siliconvalley' in x:\n",
    "        return 'siliconvalley'\n",
    "    elif 'lunametrics' in x:\n",
    "        return 'lunametrics'\n",
    "    elif 'amazon' in x:\n",
    "        return 'amazon'\n",
    "    elif 'mysearch' in x:\n",
    "        return 'mysearch'\n",
    "    elif 'qiita' in x:\n",
    "        return 'qiita'\n",
    "    elif 'messenger' in x:\n",
    "        return 'messenger'\n",
    "    elif 'twitter' in x:\n",
    "        return 'twitter'\n",
    "    elif 't.co' in x:\n",
    "        return 't.co'\n",
    "    elif 'vk.com' in x:\n",
    "        return 'vk.com'\n",
    "    elif 'search' in x:\n",
    "        return 'search'\n",
    "    elif 'edu' in x:\n",
    "        return 'edu'\n",
    "    elif 'mail' in x:\n",
    "        return 'mail'\n",
    "    elif 'ad' in x:\n",
    "        return 'ad'\n",
    "    elif 'golang' in x:\n",
    "        return 'golang'\n",
    "    elif 'direct' in x:\n",
    "        return 'direct'\n",
    "    elif 'dealspotr' in x:\n",
    "        return 'dealspotr'\n",
    "    elif 'sashihara' in x:\n",
    "        return 'sashihara'\n",
    "    elif 'phandroid' in x:\n",
    "        return 'phandroid'\n",
    "    elif 'baidu' in x:\n",
    "        return 'baidu'\n",
    "    elif 'mdn' in x:\n",
    "        return 'mdn'\n",
    "    elif 'duckduckgo' in x:\n",
    "        return 'duckduckgo'\n",
    "    elif 'seroundtable' in x:\n",
    "        return 'seroundtable'\n",
    "    elif 'metrics' in x:\n",
    "        return 'metrics'\n",
    "    elif 'sogou' in x:\n",
    "        return 'sogou'\n",
    "    elif 'businessinsider' in x:\n",
    "        return 'businessinsider'\n",
    "    elif 'github' in x:\n",
    "        return 'github'\n",
    "    elif 'gophergala' in x:\n",
    "        return 'gophergala'\n",
    "    elif 'yandex' in x:\n",
    "        return 'yandex'\n",
    "    elif 'msn' in x:\n",
    "        return 'msn'\n",
    "    elif 'dfa' in x:\n",
    "        return 'dfa'\n",
    "    elif '(not set)' in x:\n",
    "        return '(not set)'\n",
    "    elif 'feedly' in x:\n",
    "        return 'feedly'\n",
    "    elif 'arstechnica' in x:\n",
    "        return 'arstechnica'\n",
    "    elif 'squishable' in x:\n",
    "        return 'squishable'\n",
    "    elif 'flipboard' in x:\n",
    "        return 'flipboard'\n",
    "    elif 't-online.de' in x:\n",
    "        return 't-online.de'\n",
    "    elif 'sm.cn' in x:\n",
    "        return 'sm.cn'\n",
    "    elif 'wow' in x:\n",
    "        return 'wow'\n",
    "    elif 'baidu' in x:\n",
    "        return 'baidu'\n",
    "    elif 'partners' in x:\n",
    "        return 'partners'\n",
    "    else:\n",
    "        return 'others'\n",
    "\n",
    "train['device.browser'] = train['device.browser'].map(lambda x:browser_mapping(str(x).lower())).astype('str')\n",
    "train['trafficSource.adContent'] = train['trafficSource.adContent'].map(lambda x:adcontents_mapping(str(x).lower())).astype('str')\n",
    "train['trafficSource.source'] = train['trafficSource.source'].map(lambda x:source_mapping(str(x).lower())).astype('str')\n",
    "\n",
    "test['device.browser'] = test['device.browser'].map(lambda x:browser_mapping(str(x).lower())).astype('str')\n",
    "test['trafficSource.adContent'] = test['trafficSource.adContent'].map(lambda x:adcontents_mapping(str(x).lower())).astype('str')\n",
    "test['trafficSource.source'] = test['trafficSource.source'].map(lambda x:source_mapping(str(x).lower())).astype('str')\n",
    "\n",
    "def process_device(data_df):\n",
    "    print(\"process device ...\")\n",
    "    data_df['source.country'] = data_df['trafficSource.source'] + '_' + data_df['geoNetwork.country']\n",
    "    data_df['campaign.medium'] = data_df['trafficSource.campaign'] + '_' + data_df['trafficSource.medium']\n",
    "    data_df['browser.category'] = data_df['device.browser'] + '_' + data_df['device.deviceCategory']\n",
    "    data_df['browser.os'] = data_df['device.browser'] + '_' + data_df['device.operatingSystem']\n",
    "    return data_df\n",
    "\n",
    "train = process_device(train)\n",
    "test = process_device(test)\n",
    "\n",
    "def custom(data):\n",
    "    print('custom..')\n",
    "    data['device_deviceCategory_channelGrouping'] = data['device.deviceCategory'] + \"_\" + data['channelGrouping']\n",
    "    data['channelGrouping_browser'] = data['device.browser'] + \"_\" + data['channelGrouping']\n",
    "    data['channelGrouping_OS'] = data['device.operatingSystem'] + \"_\" + data['channelGrouping']\n",
    "    \n",
    "    for i in ['geoNetwork.city', 'geoNetwork.continent', 'geoNetwork.country','geoNetwork.metro', 'geoNetwork.networkDomain', 'geoNetwork.region','geoNetwork.subContinent']:\n",
    "        for j in ['device.browser','device.deviceCategory', 'device.operatingSystem', 'trafficSource.source']:\n",
    "            data[i + \"_\" + j] = data[i] + \"_\" + data[j]\n",
    "    \n",
    "    data['content.source'] = data['trafficSource.adContent'] + \"_\" + data['source.country']\n",
    "    data['medium.source'] = data['trafficSource.medium'] + \"_\" + data['source.country']\n",
    "    return data\n",
    "\n",
    "train = custom(train)\n",
    "test = custom(test)"
   ]
  },
  {
   "cell_type": "markdown",
   "metadata": {
    "_uuid": "59e7c9bcf14d3f430489d15d22757b91dd9d5ad1"
   },
   "source": [
    "### Create features list"
   ]
  },
  {
   "cell_type": "code",
   "execution_count": 11,
   "metadata": {
    "_uuid": "e09ff3124721ad70eab65b924093b5fd0c12f9c6",
    "collapsed": true
   },
   "outputs": [],
   "source": [
    "excluded_features = [\n",
    "    'date', 'fullVisitorId', 'sessionId', 'totals.transactionRevenue', \n",
    "    'visitId', 'visitStartTime', 'vis_date', 'nb_sessions', 'max_visits'\n",
    "]\n",
    "\n",
    "categorical_features = [\n",
    "    _f for _f in train.columns\n",
    "    if (_f not in excluded_features) & (train[_f].dtype == 'object')\n",
    "]"
   ]
  },
  {
   "cell_type": "markdown",
   "metadata": {
    "_uuid": "2d207a80600a44e758b6011f24c5808f9b164866"
   },
   "source": [
    "### Factorize categoricals"
   ]
  },
  {
   "cell_type": "code",
   "execution_count": 12,
   "metadata": {
    "_uuid": "4f00eb6b6166cd5be25ebad22aa9dc91a8a3ded2",
    "collapsed": true
   },
   "outputs": [],
   "source": [
    "for f in categorical_features:\n",
    "    train[f], indexer = pd.factorize(train[f])\n",
    "    test[f] = indexer.get_indexer(test[f])"
   ]
  },
  {
   "cell_type": "markdown",
   "metadata": {
    "_uuid": "d7517b473bd776f51925ab0243cf1e3b6592ce0e"
   },
   "source": [
    "### Predict revenues at session level"
   ]
  },
  {
   "cell_type": "code",
   "execution_count": 13,
   "metadata": {
    "_uuid": "eae208ad25e63d12b336eabc1310c7c2843ba10e",
    "collapsed": true
   },
   "outputs": [],
   "source": [
    "xgb_params = {\n",
    "        'objective': 'reg:linear',\n",
    "        'booster': 'gbtree',\n",
    "        'learning_rate': 0.02,\n",
    "        'max_depth': 22,\n",
    "        'min_child_weight': 57,\n",
    "        'gamma' : 1.45,\n",
    "        'alpha': 0.0,\n",
    "        'lambda': 0.0,\n",
    "        'subsample': 0.67,\n",
    "        'colsample_bytree': 0.054,\n",
    "        'colsample_bylevel': 0.50,\n",
    "        'n_jobs': -1,\n",
    "        'random_state': 456\n",
    "    }"
   ]
  },
  {
   "cell_type": "code",
   "execution_count": 14,
   "metadata": {
    "_uuid": "e9c155197545dc43ec2f3e23e25955532f7ad25d",
    "collapsed": false,
    "scrolled": false
   },
   "outputs": [
    {
     "name": "stdout",
     "output_type": "stream",
     "text": [
      "['channelGrouping', 'visitNumber', 'device.browser', 'device.deviceCategory', 'device.isMobile', 'device.operatingSystem', 'geoNetwork.city', 'geoNetwork.continent', 'geoNetwork.country', 'geoNetwork.metro', 'geoNetwork.networkDomain', 'geoNetwork.region', 'geoNetwork.subContinent', 'totals.bounces', 'totals.hits', 'totals.newVisits', 'totals.pageviews', 'trafficSource.adContent', 'trafficSource.campaign', 'trafficSource.isTrueDirect', 'trafficSource.keyword', 'trafficSource.medium', 'trafficSource.referralPath', 'trafficSource.source', 'sess_date_dow', 'sess_date_hours', 'sess_date_dom', 'next_session_1', 'next_session_2', 'source.country', 'campaign.medium', 'browser.category', 'browser.os', 'device_deviceCategory_channelGrouping', 'channelGrouping_browser', 'channelGrouping_OS', 'geoNetwork.city_device.browser', 'geoNetwork.city_device.deviceCategory', 'geoNetwork.city_device.operatingSystem', 'geoNetwork.city_trafficSource.source', 'geoNetwork.continent_device.browser', 'geoNetwork.continent_device.deviceCategory', 'geoNetwork.continent_device.operatingSystem', 'geoNetwork.continent_trafficSource.source', 'geoNetwork.country_device.browser', 'geoNetwork.country_device.deviceCategory', 'geoNetwork.country_device.operatingSystem', 'geoNetwork.country_trafficSource.source', 'geoNetwork.metro_device.browser', 'geoNetwork.metro_device.deviceCategory', 'geoNetwork.metro_device.operatingSystem', 'geoNetwork.metro_trafficSource.source', 'geoNetwork.networkDomain_device.browser', 'geoNetwork.networkDomain_device.deviceCategory', 'geoNetwork.networkDomain_device.operatingSystem', 'geoNetwork.networkDomain_trafficSource.source', 'geoNetwork.region_device.browser', 'geoNetwork.region_device.deviceCategory', 'geoNetwork.region_device.operatingSystem', 'geoNetwork.region_trafficSource.source', 'geoNetwork.subContinent_device.browser', 'geoNetwork.subContinent_device.deviceCategory', 'geoNetwork.subContinent_device.operatingSystem', 'geoNetwork.subContinent_trafficSource.source', 'content.source', 'medium.source']\n",
      "Training until validation scores don't improve for 50 rounds.\n",
      "[100]\tvalid_0's rmse: 1.63975\n",
      "[200]\tvalid_0's rmse: 1.6224\n",
      "[300]\tvalid_0's rmse: 1.6179\n",
      "[400]\tvalid_0's rmse: 1.61543\n",
      "[500]\tvalid_0's rmse: 1.61468\n",
      "[600]\tvalid_0's rmse: 1.61342\n",
      "Early stopping, best iteration is:\n",
      "[616]\tvalid_0's rmse: 1.61319\n",
      "Training until validation scores don't improve for 50 rounds.\n",
      "[100]\tvalid_0's rmse: 1.61779\n",
      "[200]\tvalid_0's rmse: 1.6048\n",
      "[300]\tvalid_0's rmse: 1.60053\n",
      "[400]\tvalid_0's rmse: 1.59808\n",
      "[500]\tvalid_0's rmse: 1.59736\n",
      "Early stopping, best iteration is:\n",
      "[502]\tvalid_0's rmse: 1.59731\n",
      "Training until validation scores don't improve for 50 rounds.\n",
      "[100]\tvalid_0's rmse: 1.62209\n",
      "[200]\tvalid_0's rmse: 1.60408\n",
      "[300]\tvalid_0's rmse: 1.59961\n",
      "[400]\tvalid_0's rmse: 1.59721\n",
      "[500]\tvalid_0's rmse: 1.59644\n",
      "[600]\tvalid_0's rmse: 1.59587\n",
      "[700]\tvalid_0's rmse: 1.59485\n",
      "Early stopping, best iteration is:\n",
      "[741]\tvalid_0's rmse: 1.59438\n",
      "Training until validation scores don't improve for 50 rounds.\n",
      "[100]\tvalid_0's rmse: 1.61507\n",
      "[200]\tvalid_0's rmse: 1.60095\n",
      "[300]\tvalid_0's rmse: 1.59464\n",
      "[400]\tvalid_0's rmse: 1.59237\n",
      "[500]\tvalid_0's rmse: 1.59129\n",
      "[600]\tvalid_0's rmse: 1.59083\n",
      "[700]\tvalid_0's rmse: 1.59064\n",
      "[800]\tvalid_0's rmse: 1.59048\n",
      "Early stopping, best iteration is:\n",
      "[758]\tvalid_0's rmse: 1.59037\n",
      "Training until validation scores don't improve for 50 rounds.\n",
      "[100]\tvalid_0's rmse: 1.64274\n",
      "[200]\tvalid_0's rmse: 1.62686\n",
      "[300]\tvalid_0's rmse: 1.62211\n",
      "[400]\tvalid_0's rmse: 1.6196\n",
      "[500]\tvalid_0's rmse: 1.61864\n",
      "Early stopping, best iteration is:\n",
      "[495]\tvalid_0's rmse: 1.61852\n"
     ]
    },
    {
     "data": {
      "text/plain": [
       "1.602282315443837"
      ]
     },
     "execution_count": 14,
     "metadata": {},
     "output_type": "execute_result"
    }
   ],
   "source": [
    "folds = get_folds(df=train, n_splits=5)\n",
    "\n",
    "train_features = [_f for _f in train.columns if _f not in excluded_features]\n",
    "print(train_features)\n",
    "\n",
    "importances = pd.DataFrame()\n",
    "oof_reg_preds = np.zeros(train.shape[0])\n",
    "sub_reg_preds = np.zeros(test.shape[0])\n",
    "for fold_, (trn_, val_) in enumerate(folds):\n",
    "    trn_x, trn_y = train[train_features].iloc[trn_], y_reg.iloc[trn_]\n",
    "    val_x, val_y = train[train_features].iloc[val_], y_reg.iloc[val_]\n",
    "    \n",
    "    reg = lgb.LGBMRegressor(\n",
    "        num_leaves=31,\n",
    "        learning_rate=0.03,\n",
    "        n_estimators=1000,\n",
    "        subsample=.9,\n",
    "        colsample_bytree=.9,\n",
    "        random_state=1\n",
    "    )\n",
    "    reg.fit(\n",
    "        trn_x, np.log1p(trn_y),\n",
    "        eval_set=[(val_x, np.log1p(val_y))],\n",
    "        early_stopping_rounds=50,\n",
    "        verbose=100,\n",
    "        eval_metric='rmse'\n",
    "    )\n",
    "    imp_df = pd.DataFrame()\n",
    "    imp_df['feature'] = train_features\n",
    "    imp_df['gain'] = reg.booster_.feature_importance(importance_type='gain')\n",
    "    \n",
    "    imp_df['fold'] = fold_ + 1\n",
    "    importances = pd.concat([importances, imp_df], axis=0, sort=False)\n",
    "    \n",
    "    oof_reg_preds[val_] = reg.predict(val_x, num_iteration=reg.best_iteration_)\n",
    "    oof_reg_preds[oof_reg_preds < 0] = 0\n",
    "    _preds = reg.predict(test[train_features], num_iteration=reg.best_iteration_)\n",
    "    _preds[_preds < 0] = 0\n",
    "    sub_reg_preds += np.expm1(_preds) / len(folds)\n",
    "    \n",
    "mean_squared_error(np.log1p(y_reg), oof_reg_preds) ** .5"
   ]
  },
  {
   "cell_type": "markdown",
   "metadata": {
    "_uuid": "2b23cdb7ee1e35c6deba9edd6ffd87a4cdc72920"
   },
   "source": [
    "### Display feature importances"
   ]
  },
  {
   "cell_type": "code",
   "execution_count": 15,
   "metadata": {
    "_uuid": "61d4aacc57c2c7c4d9ce0b1cab7221ca7c69138f",
    "collapsed": false
   },
   "outputs": [
    {
     "data": {
      "text/plain": [
       "<matplotlib.axes._subplots.AxesSubplot at 0x1352d7ef0>"
      ]
     },
     "execution_count": 15,
     "metadata": {},
     "output_type": "execute_result"
    },
    {
     "data": {
      "image/png": "[encoded data removed]",
      "text/plain": [
       "<matplotlib.figure.Figure at 0x1308738d0>"
      ]
     },
     "metadata": {},
     "output_type": "display_data"
    }
   ],
   "source": [
    "import warnings\n",
    "warnings.simplefilter('ignore', FutureWarning)\n",
    "\n",
    "importances['gain_log'] = np.log1p(importances['gain'])\n",
    "mean_gain = importances[['gain', 'feature']].groupby('feature').mean()\n",
    "importances['mean_gain'] = importances['feature'].map(mean_gain['gain'])\n",
    "\n",
    "plt.figure(figsize=(8, 12))\n",
    "sns.barplot(x='gain_log', y='feature', data=importances.sort_values('mean_gain', ascending=False))"
   ]
  },
  {
   "cell_type": "markdown",
   "metadata": {
    "_uuid": "c64447b5858dc899b6b78d26a4e68a8582995051"
   },
   "source": [
    "### Create user level predictions"
   ]
  },
  {
   "cell_type": "code",
   "execution_count": 16,
   "metadata": {
    "_uuid": "1fc92504b40407cff766489db1966e729d0466df",
    "collapsed": true
   },
   "outputs": [],
   "source": [
    "train['predictions'] = np.expm1(oof_reg_preds)\n",
    "test['predictions'] = sub_reg_preds"
   ]
  },
  {
   "cell_type": "code",
   "execution_count": 17,
   "metadata": {
    "_uuid": "515d3d14483844c93710fb6b6f9e39a6a2a1d384",
    "collapsed": true
   },
   "outputs": [],
   "source": [
    "# Aggregate data at User level\n",
    "trn_data = train[train_features + ['fullVisitorId']].groupby('fullVisitorId').mean()"
   ]
  },
  {
   "cell_type": "code",
   "execution_count": 18,
   "metadata": {
    "_uuid": "31d76001e77e3ee2e10e67a5bc899a83c4cfeb8d",
    "collapsed": false
   },
   "outputs": [
    {
     "name": "stdout",
     "output_type": "stream",
     "text": [
      "CPU times: user 45.8 s, sys: 278 ms, total: 46.1 s\n",
      "Wall time: 46.2 s\n"
     ]
    }
   ],
   "source": [
    "%%time\n",
    "# Create a list of predictions for each Visitor\n",
    "trn_pred_list = train[['fullVisitorId', 'predictions']].groupby('fullVisitorId')\\\n",
    "    .apply(lambda df: list(df.predictions))\\\n",
    "    .apply(lambda x: {'pred_'+str(i): pred for i, pred in enumerate(x)})"
   ]
  },
  {
   "cell_type": "code",
   "execution_count": 19,
   "metadata": {
    "_uuid": "b8f1bac1ef32a58f70aa7bcca79acc7119ddcfb5",
    "collapsed": false
   },
   "outputs": [
    {
     "name": "stderr",
     "output_type": "stream",
     "text": [
      "/Users/Zion/anaconda/lib/python3.6/site-packages/ipykernel/__main__.py:8: RuntimeWarning: invalid value encountered in log1p\n"
     ]
    },
    {
     "data": {
      "text/plain": [
       "(714167, 349)"
      ]
     },
     "execution_count": 19,
     "metadata": {},
     "output_type": "execute_result"
    }
   ],
   "source": [
    "# Create a DataFrame with VisitorId as index\n",
    "# trn_pred_list contains dict \n",
    "# so creating a dataframe from it will expand dict values into columns\n",
    "trn_all_predictions = pd.DataFrame(list(trn_pred_list.values), index=trn_data.index)\n",
    "trn_feats = trn_all_predictions.columns\n",
    "trn_all_predictions['t_mean'] = np.log1p(trn_all_predictions[trn_feats].mean(axis=1))\n",
    "trn_all_predictions['t_median'] = np.log1p(trn_all_predictions[trn_feats].median(axis=1))\n",
    "trn_all_predictions['t_sum_log'] = np.log1p(trn_all_predictions[trn_feats]).sum(axis=1)\n",
    "trn_all_predictions['t_sum_act'] = np.log1p(trn_all_predictions[trn_feats].fillna(0).sum(axis=1))\n",
    "trn_all_predictions['t_nb_sess'] = trn_all_predictions[trn_feats].isnull().sum(axis=1)\n",
    "full_data = pd.concat([trn_data, trn_all_predictions], axis=1)\n",
    "del trn_data, trn_all_predictions\n",
    "gc.collect()\n",
    "full_data.shape"
   ]
  },
  {
   "cell_type": "code",
   "execution_count": 20,
   "metadata": {
    "_uuid": "12a86e1f61f819417bede61f3746366b5028222f",
    "collapsed": false
   },
   "outputs": [
    {
     "name": "stdout",
     "output_type": "stream",
     "text": [
      "CPU times: user 39.2 s, sys: 300 ms, total: 39.5 s\n",
      "Wall time: 39.4 s\n"
     ]
    }
   ],
   "source": [
    "%%time\n",
    "sub_pred_list = test[['fullVisitorId', 'predictions']].groupby('fullVisitorId')\\\n",
    "    .apply(lambda df: list(df.predictions))\\\n",
    "    .apply(lambda x: {'pred_'+str(i): pred for i, pred in enumerate(x)})"
   ]
  },
  {
   "cell_type": "code",
   "execution_count": 21,
   "metadata": {
    "_uuid": "611f2a86ffff5947b6863818538577b58f099535",
    "collapsed": false
   },
   "outputs": [
    {
     "name": "stderr",
     "output_type": "stream",
     "text": [
      "/Users/Zion/anaconda/lib/python3.6/site-packages/ipykernel/__main__.py:8: RuntimeWarning: invalid value encountered in log1p\n"
     ]
    },
    {
     "data": {
      "text/plain": [
       "(617242, 349)"
      ]
     },
     "execution_count": 21,
     "metadata": {},
     "output_type": "execute_result"
    }
   ],
   "source": [
    "sub_data = test[train_features + ['fullVisitorId']].groupby('fullVisitorId').mean()\n",
    "sub_all_predictions = pd.DataFrame(list(sub_pred_list.values), index=sub_data.index)\n",
    "for f in trn_feats:\n",
    "    if f not in sub_all_predictions.columns:\n",
    "        sub_all_predictions[f] = np.nan\n",
    "sub_all_predictions['t_mean'] = np.log1p(sub_all_predictions[trn_feats].mean(axis=1))\n",
    "sub_all_predictions['t_median'] = np.log1p(sub_all_predictions[trn_feats].median(axis=1))\n",
    "sub_all_predictions['t_sum_log'] = np.log1p(sub_all_predictions[trn_feats]).sum(axis=1)\n",
    "sub_all_predictions['t_sum_act'] = np.log1p(sub_all_predictions[trn_feats].fillna(0).sum(axis=1))\n",
    "sub_all_predictions['t_nb_sess'] = sub_all_predictions[trn_feats].isnull().sum(axis=1)\n",
    "sub_full_data = pd.concat([sub_data, sub_all_predictions], axis=1)\n",
    "del sub_data, sub_all_predictions\n",
    "gc.collect()\n",
    "sub_full_data.shape"
   ]
  },
  {
   "cell_type": "markdown",
   "metadata": {
    "_uuid": "c901512b911c731113c0515e97ce80ddf7b7f118"
   },
   "source": [
    "### Create target at Visitor level"
   ]
  },
  {
   "cell_type": "code",
   "execution_count": 22,
   "metadata": {
    "_uuid": "bf3b05a18f83821d12d05500f8e0e52f0603d6c5",
    "collapsed": true
   },
   "outputs": [],
   "source": [
    "train['target'] = y_reg\n",
    "trn_user_target = train[['fullVisitorId', 'target']].groupby('fullVisitorId').sum()"
   ]
  },
  {
   "cell_type": "markdown",
   "metadata": {
    "_uuid": "73a0db5cfa89fa95a120d6c02b768272f30bca2b"
   },
   "source": [
    "### Train a model at Visitor level"
   ]
  },
  {
   "cell_type": "code",
   "execution_count": 27,
   "metadata": {
    "collapsed": false
   },
   "outputs": [
    {
     "name": "stdout",
     "output_type": "stream",
     "text": [
      "--------------------Fold :0--------------------\n",
      "--------------------LightGBM Training--------------------\n",
      "Training until validation scores don't improve for 50 rounds.\n",
      "[100]\tTRAIN's rmse: 1.53319\tVALID's rmse: 1.59142\n",
      "[200]\tTRAIN's rmse: 1.4929\tVALID's rmse: 1.58829\n",
      "Early stopping, best iteration is:\n",
      "[197]\tTRAIN's rmse: 1.49368\tVALID's rmse: 1.58827\n",
      "--------------------Xgboost Training--------------------\n",
      "[0]\tvalidation_0-rmse:2.11064\tvalidation_1-rmse:2.1107\n",
      "Multiple eval metrics have been passed: 'validation_1-rmse' will be used for early stopping.\n",
      "\n",
      "Will train until validation_1-rmse hasn't improved in 50 rounds.\n",
      "[100]\tvalidation_0-rmse:1.71414\tvalidation_1-rmse:1.74069\n",
      "[200]\tvalidation_0-rmse:1.59847\tvalidation_1-rmse:1.64516\n",
      "[300]\tvalidation_0-rmse:1.54059\tvalidation_1-rmse:1.60725\n",
      "[400]\tvalidation_0-rmse:1.51788\tvalidation_1-rmse:1.59846\n",
      "[500]\tvalidation_0-rmse:1.49721\tvalidation_1-rmse:1.59372\n",
      "[600]\tvalidation_0-rmse:1.48016\tvalidation_1-rmse:1.59199\n",
      "[700]\tvalidation_0-rmse:1.46527\tvalidation_1-rmse:1.59188\n",
      "Stopping. Best iteration:\n",
      "[667]\tvalidation_0-rmse:1.47094\tvalidation_1-rmse:1.59158\n",
      "\n",
      "--------------------Catboost Training--------------------\n"
     ]
    },
    {
     "name": "stderr",
     "output_type": "stream",
     "text": [
      "Warning: Overfitting detector is active, thus evaluation metric iscalculated on every iteration. 'metric_period' is ignored for evaluation metric.\n"
     ]
    },
    {
     "name": "stdout",
     "output_type": "stream",
     "text": [
      "0:\tlearn: 2.0872295\ttest: 2.0875405\tbest: 2.0875405 (0)\ttotal: 849ms\tremaining: 14m 8s\n",
      "100:\tlearn: 1.5368272\ttest: 1.5896360\tbest: 1.5896360 (100)\ttotal: 1m 33s\tremaining: 13m 51s\n",
      "200:\tlearn: 1.4974733\ttest: 1.5856860\tbest: 1.5855926 (197)\ttotal: 2m 59s\tremaining: 11m 54s\n",
      "300:\tlearn: 1.4684064\ttest: 1.5853941\tbest: 1.5851831 (285)\ttotal: 4m 35s\tremaining: 10m 39s\n",
      "Stopped by overfitting detector  (50 iterations wait)\n",
      "\n",
      "bestTest = 1.585183051\n",
      "bestIteration = 285\n",
      "\n",
      "Shrink model to first 286 iterations.\n",
      "--------------------Fold :1--------------------\n",
      "--------------------LightGBM Training--------------------\n",
      "Training until validation scores don't improve for 50 rounds.\n",
      "[100]\tTRAIN's rmse: 1.53282\tVALID's rmse: 1.59401\n",
      "Early stopping, best iteration is:\n",
      "[139]\tTRAIN's rmse: 1.51329\tVALID's rmse: 1.59113\n",
      "--------------------Xgboost Training--------------------\n",
      "[0]\tvalidation_0-rmse:2.11069\tvalidation_1-rmse:2.1122\n",
      "Multiple eval metrics have been passed: 'validation_1-rmse' will be used for early stopping.\n",
      "\n",
      "Will train until validation_1-rmse hasn't improved in 50 rounds.\n",
      "[100]\tvalidation_0-rmse:1.71316\tvalidation_1-rmse:1.74202\n",
      "[200]\tvalidation_0-rmse:1.59524\tvalidation_1-rmse:1.64452\n",
      "[300]\tvalidation_0-rmse:1.54423\tvalidation_1-rmse:1.61163\n",
      "[400]\tvalidation_0-rmse:1.51893\tvalidation_1-rmse:1.59977\n",
      "[500]\tvalidation_0-rmse:1.49513\tvalidation_1-rmse:1.59274\n",
      "[600]\tvalidation_0-rmse:1.47787\tvalidation_1-rmse:1.59077\n",
      "[700]\tvalidation_0-rmse:1.46419\tvalidation_1-rmse:1.59009\n",
      "Stopping. Best iteration:\n",
      "[693]\tvalidation_0-rmse:1.46532\tvalidation_1-rmse:1.58999\n",
      "\n",
      "--------------------Catboost Training--------------------\n"
     ]
    },
    {
     "name": "stderr",
     "output_type": "stream",
     "text": [
      "Warning: Overfitting detector is active, thus evaluation metric iscalculated on every iteration. 'metric_period' is ignored for evaluation metric.\n"
     ]
    },
    {
     "name": "stdout",
     "output_type": "stream",
     "text": [
      "0:\tlearn: 2.0869757\ttest: 2.0896911\tbest: 2.0896911 (0)\ttotal: 789ms\tremaining: 13m 8s\n",
      "100:\tlearn: 1.5389250\ttest: 1.5913080\tbest: 1.5913080 (100)\ttotal: 1m 40s\tremaining: 14m 50s\n",
      "200:\tlearn: 1.5006610\ttest: 1.5883283\tbest: 1.5878689 (181)\ttotal: 3m 13s\tremaining: 12m 48s\n",
      "Stopped by overfitting detector  (50 iterations wait)\n",
      "\n",
      "bestTest = 1.587868912\n",
      "bestIteration = 181\n",
      "\n",
      "Shrink model to first 182 iterations.\n",
      "--------------------Fold :2--------------------\n",
      "--------------------LightGBM Training--------------------\n",
      "Training until validation scores don't improve for 50 rounds.\n",
      "[100]\tTRAIN's rmse: 1.53319\tVALID's rmse: 1.58489\n",
      "[200]\tTRAIN's rmse: 1.49275\tVALID's rmse: 1.5813\n",
      "Early stopping, best iteration is:\n",
      "[195]\tTRAIN's rmse: 1.49418\tVALID's rmse: 1.5812\n",
      "--------------------Xgboost Training--------------------\n",
      "[0]\tvalidation_0-rmse:2.11104\tvalidation_1-rmse:2.11467\n",
      "Multiple eval metrics have been passed: 'validation_1-rmse' will be used for early stopping.\n",
      "\n",
      "Will train until validation_1-rmse hasn't improved in 50 rounds.\n",
      "[100]\tvalidation_0-rmse:1.73076\tvalidation_1-rmse:1.75593\n",
      "[200]\tvalidation_0-rmse:1.60742\tvalidation_1-rmse:1.64878\n",
      "[300]\tvalidation_0-rmse:1.53705\tvalidation_1-rmse:1.60309\n",
      "[400]\tvalidation_0-rmse:1.51172\tvalidation_1-rmse:1.59268\n",
      "[500]\tvalidation_0-rmse:1.48984\tvalidation_1-rmse:1.58758\n",
      "[600]\tvalidation_0-rmse:1.47552\tvalidation_1-rmse:1.58573\n",
      "[700]\tvalidation_0-rmse:1.46197\tvalidation_1-rmse:1.58498\n",
      "[800]\tvalidation_0-rmse:1.45004\tvalidation_1-rmse:1.58443\n",
      "[900]\tvalidation_0-rmse:1.43891\tvalidation_1-rmse:1.5841\n",
      "Stopping. Best iteration:\n",
      "[914]\tvalidation_0-rmse:1.4366\tvalidation_1-rmse:1.58401\n",
      "\n",
      "--------------------Catboost Training--------------------\n"
     ]
    },
    {
     "name": "stderr",
     "output_type": "stream",
     "text": [
      "Warning: Overfitting detector is active, thus evaluation metric iscalculated on every iteration. 'metric_period' is ignored for evaluation metric.\n"
     ]
    },
    {
     "name": "stdout",
     "output_type": "stream",
     "text": [
      "0:\tlearn: 2.0864943\ttest: 2.0903862\tbest: 2.0903862 (0)\ttotal: 823ms\tremaining: 13m 42s\n",
      "100:\tlearn: 1.5331812\ttest: 1.5887110\tbest: 1.5887110 (100)\ttotal: 1m 18s\tremaining: 11m 34s\n",
      "200:\tlearn: 1.4958163\ttest: 1.5857017\tbest: 1.5852308 (170)\ttotal: 2m 29s\tremaining: 9m 52s\n",
      "Stopped by overfitting detector  (50 iterations wait)\n",
      "\n",
      "bestTest = 1.585230769\n",
      "bestIteration = 170\n",
      "\n",
      "Shrink model to first 171 iterations.\n",
      "--------------------Fold :3--------------------\n",
      "--------------------LightGBM Training--------------------\n",
      "Training until validation scores don't improve for 50 rounds.\n",
      "[100]\tTRAIN's rmse: 1.53968\tVALID's rmse: 1.56465\n",
      "[200]\tTRAIN's rmse: 1.49937\tVALID's rmse: 1.56188\n",
      "Early stopping, best iteration is:\n",
      "[200]\tTRAIN's rmse: 1.49937\tVALID's rmse: 1.56188\n",
      "--------------------Xgboost Training--------------------\n",
      "[0]\tvalidation_0-rmse:2.11461\tvalidation_1-rmse:2.10073\n",
      "Multiple eval metrics have been passed: 'validation_1-rmse' will be used for early stopping.\n",
      "\n",
      "Will train until validation_1-rmse hasn't improved in 50 rounds.\n",
      "[100]\tvalidation_0-rmse:1.7451\tvalidation_1-rmse:1.74079\n",
      "[200]\tvalidation_0-rmse:1.60861\tvalidation_1-rmse:1.62432\n",
      "[300]\tvalidation_0-rmse:1.55327\tvalidation_1-rmse:1.58628\n",
      "[400]\tvalidation_0-rmse:1.52412\tvalidation_1-rmse:1.57412\n",
      "[500]\tvalidation_0-rmse:1.50281\tvalidation_1-rmse:1.5695\n",
      "[600]\tvalidation_0-rmse:1.48358\tvalidation_1-rmse:1.5676\n",
      "[700]\tvalidation_0-rmse:1.46846\tvalidation_1-rmse:1.56709\n",
      "Stopping. Best iteration:\n",
      "[733]\tvalidation_0-rmse:1.46399\tvalidation_1-rmse:1.56691\n",
      "\n",
      "--------------------Catboost Training--------------------\n"
     ]
    },
    {
     "name": "stderr",
     "output_type": "stream",
     "text": [
      "Warning: Overfitting detector is active, thus evaluation metric iscalculated on every iteration. 'metric_period' is ignored for evaluation metric.\n"
     ]
    },
    {
     "name": "stdout",
     "output_type": "stream",
     "text": [
      "0:\tlearn: 2.0903874\ttest: 2.0754559\tbest: 2.0754559 (0)\ttotal: 624ms\tremaining: 10m 23s\n",
      "100:\tlearn: 1.5406967\ttest: 1.5690090\tbest: 1.5690090 (100)\ttotal: 1m 14s\tremaining: 11m 3s\n",
      "200:\tlearn: 1.5028462\ttest: 1.5673402\tbest: 1.5669383 (186)\ttotal: 2m 28s\tremaining: 9m 48s\n",
      "Stopped by overfitting detector  (50 iterations wait)\n",
      "\n",
      "bestTest = 1.566938265\n",
      "bestIteration = 186\n",
      "\n",
      "Shrink model to first 187 iterations.\n",
      "--------------------Fold :4--------------------\n",
      "--------------------LightGBM Training--------------------\n",
      "Training until validation scores don't improve for 50 rounds.\n",
      "[100]\tTRAIN's rmse: 1.53086\tVALID's rmse: 1.59511\n",
      "Early stopping, best iteration is:\n",
      "[129]\tTRAIN's rmse: 1.51535\tVALID's rmse: 1.59381\n",
      "--------------------Xgboost Training--------------------\n",
      "[0]\tvalidation_0-rmse:2.11007\tvalidation_1-rmse:2.11885\n",
      "Multiple eval metrics have been passed: 'validation_1-rmse' will be used for early stopping.\n",
      "\n",
      "Will train until validation_1-rmse hasn't improved in 50 rounds.\n",
      "[100]\tvalidation_0-rmse:1.70554\tvalidation_1-rmse:1.73382\n",
      "[200]\tvalidation_0-rmse:1.6044\tvalidation_1-rmse:1.64955\n",
      "[300]\tvalidation_0-rmse:1.56603\tvalidation_1-rmse:1.62455\n",
      "[400]\tvalidation_0-rmse:1.53005\tvalidation_1-rmse:1.606\n",
      "[500]\tvalidation_0-rmse:1.50741\tvalidation_1-rmse:1.59967\n",
      "[600]\tvalidation_0-rmse:1.49049\tvalidation_1-rmse:1.59774\n",
      "[700]\tvalidation_0-rmse:1.47468\tvalidation_1-rmse:1.59645\n",
      "[800]\tvalidation_0-rmse:1.46004\tvalidation_1-rmse:1.5962\n",
      "Stopping. Best iteration:\n",
      "[751]\tvalidation_0-rmse:1.46783\tvalidation_1-rmse:1.59592\n",
      "\n",
      "--------------------Catboost Training--------------------\n"
     ]
    },
    {
     "name": "stderr",
     "output_type": "stream",
     "text": [
      "Warning: Overfitting detector is active, thus evaluation metric iscalculated on every iteration. 'metric_period' is ignored for evaluation metric.\n"
     ]
    },
    {
     "name": "stdout",
     "output_type": "stream",
     "text": [
      "0:\tlearn: 2.0854389\ttest: 2.0944163\tbest: 2.0944163 (0)\ttotal: 615ms\tremaining: 10m 14s\n",
      "100:\tlearn: 1.5341095\ttest: 1.5948058\tbest: 1.5948022 (99)\ttotal: 1m 14s\tremaining: 11m 1s\n",
      "200:\tlearn: 1.4930274\ttest: 1.5923928\tbest: 1.5923928 (200)\ttotal: 2m 27s\tremaining: 9m 47s\n",
      "Stopped by overfitting detector  (50 iterations wait)\n",
      "\n",
      "bestTest = 1.592354595\n",
      "bestIteration = 215\n",
      "\n",
      "Shrink model to first 216 iterations.\n",
      "LGB   1.5832989648547977\n",
      "XGB   1.5853096254858177\n",
      "CAT   1.5835349411153847\n",
      "Combine   1.5802343315906617\n"
     ]
    }
   ],
   "source": [
    "from xgboost import XGBRegressor\n",
    "from catboost import CatBoostRegressor\n",
    "folds = get_folds(df=full_data[['totals.pageviews']].reset_index(), n_splits=5)\n",
    "\n",
    "oof_preds = np.zeros(full_data.shape[0])\n",
    "oof_preds1 = np.zeros(full_data.shape[0])\n",
    "oof_preds2 = np.zeros(full_data.shape[0])\n",
    "\n",
    "both_oof = np.zeros(full_data.shape[0])\n",
    "sub_preds = np.zeros(sub_full_data.shape[0])\n",
    "vis_importances = pd.DataFrame()\n",
    "\n",
    "for fold_, (trn_, val_) in enumerate(folds):\n",
    "    print(\"-\"* 20 + \"Fold :\"+str(fold_) + \"-\"* 20)\n",
    "    trn_x, trn_y = full_data.iloc[trn_], trn_user_target['target'].iloc[trn_]\n",
    "    val_x, val_y = full_data.iloc[val_], trn_user_target['target'].iloc[val_]\n",
    "    xg = XGBRegressor(**xgb_params, n_estimators=1000)\n",
    "    reg = lgb.LGBMRegressor(\n",
    "        num_leaves=31,\n",
    "        learning_rate=0.03,\n",
    "        n_estimators=1000,\n",
    "        subsample=.9,\n",
    "        colsample_bytree=.9,\n",
    "        random_state=1\n",
    "    )\n",
    "    print(\"-\"* 20 + \"LightGBM Training\" + \"-\"* 20)\n",
    "    reg.fit(\n",
    "        trn_x, np.log1p(trn_y),\n",
    "        eval_set=[(trn_x, np.log1p(trn_y)), (val_x, np.log1p(val_y))],\n",
    "        eval_names=['TRAIN', 'VALID'],\n",
    "        early_stopping_rounds=50,\n",
    "        eval_metric='rmse',\n",
    "        verbose=100\n",
    "    )\n",
    "    print(\"-\"* 20 + \"Xgboost Training\" + \"-\"* 20)\n",
    "    xg.fit(\n",
    "        trn_x, np.log1p(trn_y),\n",
    "        eval_set=[(trn_x, np.log1p(trn_y)), (val_x, np.log1p(val_y))],\n",
    "        early_stopping_rounds=50,\n",
    "        eval_metric='rmse',\n",
    "        verbose=100\n",
    "    )\n",
    "    cat = CatBoostRegressor(iterations=1000,learning_rate=0.03,\n",
    "                            depth=10,\n",
    "                            eval_metric='RMSE',\n",
    "                            random_seed = 42,\n",
    "                            bagging_temperature = 0.2,\n",
    "                            od_type='Iter',\n",
    "                            metric_period = 50,\n",
    "                            od_wait=20)\n",
    "    print(\"-\"* 20 + \"Catboost Training\" + \"-\"* 20)\n",
    "    cat.fit(trn_x, np.log1p(trn_y), eval_set=[(val_x, np.log1p(val_y))],early_stopping_rounds=50,use_best_model=True,verbose=100)\n",
    "    imp_df = pd.DataFrame()\n",
    "    imp_df['feature'] = trn_x.columns\n",
    "    imp_df['gain'] = reg.booster_.feature_importance(importance_type='gain')\n",
    "\n",
    "    imp_df['fold'] = fold_ + 1\n",
    "    vis_importances = pd.concat([vis_importances, imp_df], axis=0, sort=False)\n",
    "\n",
    "    oof_preds[val_] = reg.predict(val_x, num_iteration=reg.best_iteration_)\n",
    "    oof_preds1[val_] = xg.predict(val_x)\n",
    "    oof_preds2[val_] = cat.predict(val_x)\n",
    "\n",
    "    oof_preds[oof_preds < 0] = 0\n",
    "    oof_preds1[oof_preds1 < 0] = 0\n",
    "    oof_preds2[oof_preds2 < 0] = 0\n",
    "\n",
    "    both_oof[val_] = oof_preds[val_] * 0.35 + oof_preds1[val_] * 0.3 + oof_preds2[val_] * 0.35\n",
    "\n",
    "    # Make sure features are in the same order\n",
    "    _preds = reg.predict(sub_full_data[full_data.columns], num_iteration=reg.best_iteration_)\n",
    "    _preds[_preds < 0] = 0\n",
    "\n",
    "    pre = xg.predict(sub_full_data[full_data.columns])\n",
    "    pre[pre<0]=0\n",
    "\n",
    "    pre_ = cat.predict(sub_full_data[full_data.columns])\n",
    "    pre_[pre_<0]=0\n",
    "\n",
    "    sub_preds += (_preds / len(folds)) * 0.35 + (pre / len(folds)) * 0.3 + (pre_ / len(folds)) * 0.35\n",
    "    \n",
    "print(\"LGB  \", mean_squared_error(np.log1p(trn_user_target['target']), oof_preds) ** .5)\n",
    "print(\"XGB  \", mean_squared_error(np.log1p(trn_user_target['target']), oof_preds1) ** .5)\n",
    "print(\"CAT  \", mean_squared_error(np.log1p(trn_user_target['target']), oof_preds2) ** .5)\n",
    "\n",
    "print(\"Combine  \", mean_squared_error(np.log1p(trn_user_target['target']), both_oof) ** .5)"
   ]
  },
  {
   "cell_type": "code",
   "execution_count": 23,
   "metadata": {
    "_uuid": "236f5546dfad2fee431a28534ef57cf8fec249ec",
    "collapsed": false
   },
   "outputs": [
    {
     "name": "stdout",
     "output_type": "stream",
     "text": [
      "--------------------Fold :0--------------------\n",
      "--------------------LightGBM Training--------------------\n",
      "Training until validation scores don't improve for 50 rounds.\n",
      "[100]\tTRAIN's rmse: 1.53319\tVALID's rmse: 1.59142\n",
      "[200]\tTRAIN's rmse: 1.4929\tVALID's rmse: 1.58829\n",
      "Early stopping, best iteration is:\n",
      "[197]\tTRAIN's rmse: 1.49368\tVALID's rmse: 1.58827\n",
      "--------------------Xgboost Training--------------------\n",
      "[0]\tvalidation_0-rmse:2.11064\tvalidation_1-rmse:2.1107\n",
      "Multiple eval metrics have been passed: 'validation_1-rmse' will be used for early stopping.\n",
      "\n",
      "Will train until validation_1-rmse hasn't improved in 50 rounds.\n",
      "[100]\tvalidation_0-rmse:1.71414\tvalidation_1-rmse:1.74069\n",
      "[200]\tvalidation_0-rmse:1.59847\tvalidation_1-rmse:1.64516\n",
      "[300]\tvalidation_0-rmse:1.54059\tvalidation_1-rmse:1.60725\n",
      "[400]\tvalidation_0-rmse:1.51788\tvalidation_1-rmse:1.59846\n",
      "[500]\tvalidation_0-rmse:1.49721\tvalidation_1-rmse:1.59372\n",
      "[600]\tvalidation_0-rmse:1.48016\tvalidation_1-rmse:1.59199\n",
      "[700]\tvalidation_0-rmse:1.46527\tvalidation_1-rmse:1.59188\n",
      "Stopping. Best iteration:\n",
      "[667]\tvalidation_0-rmse:1.47094\tvalidation_1-rmse:1.59158\n",
      "\n",
      "--------------------Fold :1--------------------\n",
      "--------------------LightGBM Training--------------------\n",
      "Training until validation scores don't improve for 50 rounds.\n",
      "[100]\tTRAIN's rmse: 1.53282\tVALID's rmse: 1.59401\n",
      "Early stopping, best iteration is:\n",
      "[139]\tTRAIN's rmse: 1.51329\tVALID's rmse: 1.59113\n",
      "--------------------Xgboost Training--------------------\n",
      "[0]\tvalidation_0-rmse:2.11069\tvalidation_1-rmse:2.1122\n",
      "Multiple eval metrics have been passed: 'validation_1-rmse' will be used for early stopping.\n",
      "\n",
      "Will train until validation_1-rmse hasn't improved in 50 rounds.\n",
      "[100]\tvalidation_0-rmse:1.71316\tvalidation_1-rmse:1.74202\n",
      "[200]\tvalidation_0-rmse:1.59524\tvalidation_1-rmse:1.64452\n",
      "[300]\tvalidation_0-rmse:1.54423\tvalidation_1-rmse:1.61163\n",
      "[400]\tvalidation_0-rmse:1.51893\tvalidation_1-rmse:1.59977\n",
      "[500]\tvalidation_0-rmse:1.49513\tvalidation_1-rmse:1.59274\n",
      "[600]\tvalidation_0-rmse:1.47787\tvalidation_1-rmse:1.59077\n",
      "[700]\tvalidation_0-rmse:1.46419\tvalidation_1-rmse:1.59009\n",
      "Stopping. Best iteration:\n",
      "[693]\tvalidation_0-rmse:1.46532\tvalidation_1-rmse:1.58999\n",
      "\n",
      "--------------------Fold :2--------------------\n",
      "--------------------LightGBM Training--------------------\n",
      "Training until validation scores don't improve for 50 rounds.\n",
      "[100]\tTRAIN's rmse: 1.53319\tVALID's rmse: 1.58489\n",
      "[200]\tTRAIN's rmse: 1.49275\tVALID's rmse: 1.5813\n",
      "Early stopping, best iteration is:\n",
      "[195]\tTRAIN's rmse: 1.49418\tVALID's rmse: 1.5812\n",
      "--------------------Xgboost Training--------------------\n",
      "[0]\tvalidation_0-rmse:2.11104\tvalidation_1-rmse:2.11467\n",
      "Multiple eval metrics have been passed: 'validation_1-rmse' will be used for early stopping.\n",
      "\n",
      "Will train until validation_1-rmse hasn't improved in 50 rounds.\n",
      "[100]\tvalidation_0-rmse:1.73076\tvalidation_1-rmse:1.75593\n",
      "[200]\tvalidation_0-rmse:1.60742\tvalidation_1-rmse:1.64878\n",
      "[300]\tvalidation_0-rmse:1.53705\tvalidation_1-rmse:1.60309\n",
      "[400]\tvalidation_0-rmse:1.51172\tvalidation_1-rmse:1.59268\n",
      "[500]\tvalidation_0-rmse:1.48984\tvalidation_1-rmse:1.58758\n",
      "[600]\tvalidation_0-rmse:1.47552\tvalidation_1-rmse:1.58573\n",
      "[700]\tvalidation_0-rmse:1.46197\tvalidation_1-rmse:1.58498\n",
      "[800]\tvalidation_0-rmse:1.45004\tvalidation_1-rmse:1.58443\n",
      "[900]\tvalidation_0-rmse:1.43891\tvalidation_1-rmse:1.5841\n",
      "Stopping. Best iteration:\n",
      "[914]\tvalidation_0-rmse:1.4366\tvalidation_1-rmse:1.58401\n",
      "\n",
      "--------------------Fold :3--------------------\n",
      "--------------------LightGBM Training--------------------\n",
      "Training until validation scores don't improve for 50 rounds.\n",
      "[100]\tTRAIN's rmse: 1.53968\tVALID's rmse: 1.56465\n",
      "[200]\tTRAIN's rmse: 1.49937\tVALID's rmse: 1.56188\n",
      "Early stopping, best iteration is:\n",
      "[200]\tTRAIN's rmse: 1.49937\tVALID's rmse: 1.56188\n",
      "--------------------Xgboost Training--------------------\n",
      "[0]\tvalidation_0-rmse:2.11461\tvalidation_1-rmse:2.10073\n",
      "Multiple eval metrics have been passed: 'validation_1-rmse' will be used for early stopping.\n",
      "\n",
      "Will train until validation_1-rmse hasn't improved in 50 rounds.\n",
      "[100]\tvalidation_0-rmse:1.7451\tvalidation_1-rmse:1.74079\n",
      "[200]\tvalidation_0-rmse:1.60861\tvalidation_1-rmse:1.62432\n",
      "[300]\tvalidation_0-rmse:1.55327\tvalidation_1-rmse:1.58628\n",
      "[400]\tvalidation_0-rmse:1.52412\tvalidation_1-rmse:1.57412\n",
      "[500]\tvalidation_0-rmse:1.50281\tvalidation_1-rmse:1.5695\n",
      "[600]\tvalidation_0-rmse:1.48358\tvalidation_1-rmse:1.5676\n",
      "[700]\tvalidation_0-rmse:1.46846\tvalidation_1-rmse:1.56709\n",
      "Stopping. Best iteration:\n",
      "[733]\tvalidation_0-rmse:1.46399\tvalidation_1-rmse:1.56691\n",
      "\n",
      "--------------------Fold :4--------------------\n",
      "--------------------LightGBM Training--------------------\n",
      "Training until validation scores don't improve for 50 rounds.\n",
      "[100]\tTRAIN's rmse: 1.53086\tVALID's rmse: 1.59511\n",
      "Early stopping, best iteration is:\n",
      "[129]\tTRAIN's rmse: 1.51535\tVALID's rmse: 1.59381\n",
      "--------------------Xgboost Training--------------------\n",
      "[0]\tvalidation_0-rmse:2.11007\tvalidation_1-rmse:2.11885\n",
      "Multiple eval metrics have been passed: 'validation_1-rmse' will be used for early stopping.\n",
      "\n",
      "Will train until validation_1-rmse hasn't improved in 50 rounds.\n",
      "[100]\tvalidation_0-rmse:1.70554\tvalidation_1-rmse:1.73382\n",
      "[200]\tvalidation_0-rmse:1.6044\tvalidation_1-rmse:1.64955\n",
      "[300]\tvalidation_0-rmse:1.56603\tvalidation_1-rmse:1.62455\n",
      "[400]\tvalidation_0-rmse:1.53005\tvalidation_1-rmse:1.606\n",
      "[500]\tvalidation_0-rmse:1.50741\tvalidation_1-rmse:1.59967\n",
      "[600]\tvalidation_0-rmse:1.49049\tvalidation_1-rmse:1.59774\n",
      "[700]\tvalidation_0-rmse:1.47468\tvalidation_1-rmse:1.59645\n",
      "[800]\tvalidation_0-rmse:1.46004\tvalidation_1-rmse:1.5962\n",
      "Stopping. Best iteration:\n",
      "[751]\tvalidation_0-rmse:1.46783\tvalidation_1-rmse:1.59592\n",
      "\n",
      "LGB   1.5832989648547977\n",
      "XGB   1.5853096254858177\n",
      "Combine   1.5806810850103332\n"
     ]
    }
   ],
   "source": [
    "from xgboost import XGBRegressor\n",
    "folds = get_folds(df=full_data[['totals.pageviews']].reset_index(), n_splits=5)\n",
    "\n",
    "oof_preds = np.zeros(full_data.shape[0])\n",
    "oof_preds1 = np.zeros(full_data.shape[0])\n",
    "both_oof = np.zeros(full_data.shape[0])\n",
    "sub_preds = np.zeros(sub_full_data.shape[0])\n",
    "vis_importances = pd.DataFrame()\n",
    "\n",
    "for fold_, (trn_, val_) in enumerate(folds):\n",
    "    print(\"-\"* 20 + \"Fold :\"+str(fold_) + \"-\"* 20)\n",
    "    trn_x, trn_y = full_data.iloc[trn_], trn_user_target['target'].iloc[trn_]\n",
    "    val_x, val_y = full_data.iloc[val_], trn_user_target['target'].iloc[val_]\n",
    "    xg = XGBRegressor(**xgb_params, n_estimators=1000)\n",
    "    reg = lgb.LGBMRegressor(\n",
    "        num_leaves=31,\n",
    "        learning_rate=0.03,\n",
    "        n_estimators=1000,\n",
    "        subsample=.9,\n",
    "        colsample_bytree=.9,\n",
    "        random_state=1\n",
    "    )\n",
    "    print(\"-\"* 20 + \"LightGBM Training\" + \"-\"* 20)\n",
    "    reg.fit(\n",
    "        trn_x, np.log1p(trn_y),\n",
    "        eval_set=[(trn_x, np.log1p(trn_y)), (val_x, np.log1p(val_y))],\n",
    "        eval_names=['TRAIN', 'VALID'],\n",
    "        early_stopping_rounds=50,\n",
    "        eval_metric='rmse',\n",
    "        verbose=100\n",
    "    )\n",
    "    print(\"-\"* 20 + \"Xgboost Training\" + \"-\"* 20)\n",
    "    xg.fit(\n",
    "        trn_x, np.log1p(trn_y),\n",
    "        eval_set=[(trn_x, np.log1p(trn_y)), (val_x, np.log1p(val_y))],\n",
    "        early_stopping_rounds=50,\n",
    "        eval_metric='rmse',\n",
    "        verbose=100\n",
    "    )\n",
    "    imp_df = pd.DataFrame()\n",
    "    imp_df['feature'] = trn_x.columns\n",
    "    imp_df['gain'] = reg.booster_.feature_importance(importance_type='gain')\n",
    "\n",
    "    imp_df['fold'] = fold_ + 1\n",
    "    vis_importances = pd.concat([vis_importances, imp_df], axis=0, sort=False)\n",
    "\n",
    "    oof_preds[val_] = reg.predict(val_x, num_iteration=reg.best_iteration_)\n",
    "    oof_preds1[val_] = xg.predict(val_x)\n",
    "\n",
    "    oof_preds[oof_preds < 0] = 0\n",
    "    oof_preds1[oof_preds1 < 0] = 0\n",
    "\n",
    "    both_oof[val_] = oof_preds[val_] * 0.6 + oof_preds1[val_] * 0.4\n",
    "\n",
    "    # Make sure features are in the same order\n",
    "    _preds = reg.predict(sub_full_data[full_data.columns], num_iteration=reg.best_iteration_)\n",
    "    _preds[_preds < 0] = 0\n",
    "\n",
    "    pre = xg.predict(sub_full_data[full_data.columns])\n",
    "    pre[pre<0]=0\n",
    "\n",
    "    sub_preds += (_preds / len(folds)) * 0.6 + (pre / len(folds)) * 0.4\n",
    "    \n",
    "print(\"LGB  \", mean_squared_error(np.log1p(trn_user_target['target']), oof_preds) ** .5)\n",
    "print(\"XGB  \", mean_squared_error(np.log1p(trn_user_target['target']), oof_preds1) ** .5)\n",
    "print(\"Combine  \", mean_squared_error(np.log1p(trn_user_target['target']), both_oof) ** .5)"
   ]
  },
  {
   "cell_type": "markdown",
   "metadata": {
    "_uuid": "8a334da6d1b615108f7d7200a8268bd2aff52d65"
   },
   "source": [
    "### Display feature importances"
   ]
  },
  {
   "cell_type": "code",
   "execution_count": 28,
   "metadata": {
    "_uuid": "c9722bdf108cf510b6f59db3d99e406790c99194",
    "collapsed": false
   },
   "outputs": [
    {
     "data": {
      "text/plain": [
       "<matplotlib.axes._subplots.AxesSubplot at 0x20b3f90f0>"
      ]
     },
     "execution_count": 28,
     "metadata": {},
     "output_type": "execute_result"
    },
    {
     "data": {
      "image/png": "[encoded data removed]",
      "text/plain": [
       "<matplotlib.figure.Figure at 0x20a727d68>"
      ]
     },
     "metadata": {},
     "output_type": "display_data"
    }
   ],
   "source": [
    "vis_importances['gain_log'] = np.log1p(vis_importances['gain'])\n",
    "mean_gain = vis_importances[['gain', 'feature']].groupby('feature').mean()\n",
    "vis_importances['mean_gain'] = vis_importances['feature'].map(mean_gain['gain'])\n",
    "\n",
    "plt.figure(figsize=(8, 25))\n",
    "sns.barplot(x='gain_log', y='feature', data=vis_importances.sort_values('mean_gain', ascending=False).iloc[:300])"
   ]
  },
  {
   "cell_type": "code",
   "execution_count": 30,
   "metadata": {
    "_uuid": "4a2dee1ac8bc48aa205966c88d3acdfa1db384f1",
    "collapsed": true
   },
   "outputs": [],
   "source": [
    "tips = 2"
   ]
  },
  {
   "cell_type": "markdown",
   "metadata": {
    "_uuid": "dbd81ac5df63f2c94c00e678b00dd7993d06df6f"
   },
   "source": [
    "### Save predictions"
   ]
  },
  {
   "cell_type": "code",
   "execution_count": 31,
   "metadata": {
    "_uuid": "feb757b51ac10132118cc0db22f7adda70f0913f",
    "collapsed": true
   },
   "outputs": [],
   "source": [
    "sub_full_data['PredictedLogRevenue'] = sub_preds\n",
    "sub_full_data[['PredictedLogRevenue']].to_csv('new_test_3_models.csv', index=True)"
   ]
  },
  {
   "cell_type": "code",
   "execution_count": null,
   "metadata": {
    "_uuid": "6b71545579a68255d07bb6c77c201cf948a33e4f",
    "collapsed": true
   },
   "outputs": [],
   "source": []
  },
  {
   "cell_type": "code",
   "execution_count": null,
   "metadata": {
    "collapsed": true
   },
   "outputs": [],
   "source": []
  }
 ],
 "metadata": {
  "kernelspec": {
   "display_name": "Python 3",
   "language": "python",
   "name": "python3"
  },
  "language_info": {
   "codemirror_mode": {
    "name": "ipython",
    "version": 3
   },
   "file_extension": ".py",
   "mimetype": "text/x-python",
   "name": "python",
   "nbconvert_exporter": "python",
   "pygments_lexer": "ipython3",
   "version": "3.6.3"
  }
 },
 "nbformat": 4,
 "nbformat_minor": 1
}
